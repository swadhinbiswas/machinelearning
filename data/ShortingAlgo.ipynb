{
 "cells": [
  {
   "cell_type": "markdown",
   "metadata": {},
   "source": [
    "# heap\n",
    "### Bainary tree\n",
    "```pyhton3 \n",
    "def clear():\n",
    "pass\n",
    "```\n"
   ]
  },
  {
   "cell_type": "markdown",
   "metadata": {},
   "source": [
    "MAX HEAP"
   ]
  },
  {
   "cell_type": "code",
   "execution_count": 1,
   "metadata": {
    "metadata": {}
   },
   "outputs": [
    {
     "name": "stdout",
     "output_type": "stream",
     "text": [
      "[1, 5, 7, 12, 9, 9, 10]\n"
     ]
    }
   ],
   "source": [
    "def heapify(arr,n,i):\n",
    "  largest =i\n",
    "  left,right=2*i+1,2*i+2\n",
    "\n",
    "  if left<n and arr[i]<arr[left]:\n",
    "    largest =left\n",
    "  if right<n and arr[i]<arr[right]:\n",
    "    largest =right\n",
    "  if largest!=i :\n",
    "    arr[i],arr[largest] = arr[largest],arr[i]\n",
    "    heapify(arr,n,largest)\n",
    "\n",
    "\n",
    "def heapshort(arr):\n",
    "  n=len(arr)\n",
    "  for i in range(n//2,-1,-1):\n",
    "    heapify(arr,n,i)\n",
    "  \n",
    "  for i in range(n-1,0,-1):\n",
    "    arr[i],arr[0]=arr[0],arr[i]\n",
    "    heapify(arr,i,0)\n",
    "\n",
    "  return arr\n",
    "  \n",
    "  \n",
    "  "
   ]
  },
  {
   "cell_type": "markdown",
   "metadata": {},
   "source": [
    "Marge short = function()"
   ]
  },
  {
   "cell_type": "code",
   "execution_count": 5,
   "metadata": {
    "metadata": {}
   },
   "outputs": [
    {
     "name": "stdout",
     "output_type": "stream",
     "text": [
      "Sorted array is: \n",
      "1 5 6 9 10 12 \n"
     ]
    }
   ],
   "source": [
    "# MergeSort in Python\n",
    "\n",
    "\n",
    "def mergeSort(array):\n",
    "    if len(array) > 1:\n",
    "\n",
    "        #  r is the point where the array is divided into two subarrays\n",
    "        r = len(array)//2\n",
    "        L = array[:r]\n",
    "        M = array[r:]\n",
    "\n",
    "        # Sort the two halves\n",
    "        mergeSort(L)\n",
    "        mergeSort(M)\n",
    "\n",
    "        i = j = k = 0\n",
    "\n",
    "        # Until we reach either end of either L or M, pick larger among\n",
    "        # elements L and M and place them in the correct position at A[p..r]\n",
    "        while i < len(L) and j < len(M):\n",
    "            if L[i] < M[j]:\n",
    "                array[k] = L[i]\n",
    "                i += 1\n",
    "            else:\n",
    "                array[k] = M[j]\n",
    "                j += 1\n",
    "            k += 1\n",
    "\n",
    "        # When we run out of elements in either L or M,\n",
    "        # pick up the remaining elements and put in A[p..r]\n",
    "        while i < len(L):\n",
    "            array[k] = L[i]\n",
    "            i += 1\n",
    "            k += 1\n",
    "\n",
    "        while j < len(M):\n",
    "            array[k] = M[j]\n",
    "            j += 1\n",
    "            k += 1\n",
    "\n",
    "\n",
    "# Print the array\n",
    "def printList(array):\n",
    "    for i in range(len(array)):\n",
    "        print(array[i], end=\" \")\n",
    "    print()\n",
    "\n",
    "\n",
    "# Driver program\n",
    "if __name__ == '__main__':\n",
    "    array = [6, 5, 12, 10, 9, 1]\n",
    "\n",
    "    mergeSort(array)\n",
    "\n",
    "    print(\"Sorted array is: \")\n",
    "    printList(array)"
   ]
  },
  {
   "cell_type": "markdown",
   "metadata": {},
   "source": [
    "#Shorted 2 marge list"
   ]
  },
  {
   "cell_type": "code",
   "execution_count": 6,
   "metadata": {
    "metadata": {}
   },
   "outputs": [
    {
     "ename": "IndexError",
     "evalue": "list assignment index out of range",
     "output_type": "error",
     "traceback": [
      "\u001b[0;31m---------------------------------------------------------------------------\u001b[0m",
      "\u001b[0;31mIndexError\u001b[0m                                Traceback (most recent call last)",
      "Cell \u001b[0;32mIn[6], line 34\u001b[0m\n\u001b[1;32m     32\u001b[0m list2\u001b[38;5;241m=\u001b[39m[\u001b[38;5;241m10\u001b[39m,\u001b[38;5;241m11\u001b[39m,\u001b[38;5;241m12\u001b[39m,\u001b[38;5;241m13\u001b[39m,\u001b[38;5;241m14\u001b[39m,\u001b[38;5;241m15\u001b[39m]\n\u001b[1;32m     33\u001b[0m solve\u001b[38;5;241m=\u001b[39mSolve\n\u001b[0;32m---> 34\u001b[0m x\u001b[38;5;241m=\u001b[39m\u001b[43msolve\u001b[49m\u001b[38;5;241;43m.\u001b[39;49m\u001b[43mmargeSort\u001b[49m\u001b[43m(\u001b[49m\u001b[43mlist1\u001b[49m\u001b[43m,\u001b[49m\u001b[43mlist2\u001b[49m\u001b[43m)\u001b[49m\n\u001b[1;32m     36\u001b[0m \u001b[38;5;28mprint\u001b[39m(x)\n",
      "Cell \u001b[0;32mIn[6], line 9\u001b[0m, in \u001b[0;36mSolve.margeSort\u001b[0;34m(list1, list2)\u001b[0m\n\u001b[1;32m      7\u001b[0m \u001b[38;5;28;01mwhile\u001b[39;00m i\u001b[38;5;241m<\u001b[39mx \u001b[38;5;129;01mand\u001b[39;00m j\u001b[38;5;241m<\u001b[39my:\n\u001b[1;32m      8\u001b[0m     \u001b[38;5;28;01mif\u001b[39;00m list1[i]\u001b[38;5;241m<\u001b[39mlist2[j]:\n\u001b[0;32m----> 9\u001b[0m         \u001b[43mlist3\u001b[49m\u001b[43m[\u001b[49m\u001b[43mk\u001b[49m\u001b[43m]\u001b[49m\u001b[38;5;241m=\u001b[39mlist1[i]\n\u001b[1;32m     10\u001b[0m         i\u001b[38;5;241m+\u001b[39m\u001b[38;5;241m=\u001b[39m\u001b[38;5;241m1\u001b[39m\n\u001b[1;32m     12\u001b[0m     \u001b[38;5;28;01melse\u001b[39;00m:\n",
      "\u001b[0;31mIndexError\u001b[0m: list assignment index out of range"
     ]
    }
   ],
   "source": [
    "class Solve:\n",
    "    def margeSort(list1,list2):\n",
    "        list3=[]\n",
    "        i=j=k=0\n",
    "        x=len(list1)\n",
    "        y=len(list2)\n",
    "        while i<x and j<y:\n",
    "            if list1[i]<list2[j]:\n",
    "                list3[k]=list1[i]\n",
    "                i+=1\n",
    "\n",
    "            else:\n",
    "                list3[k]=list2[j]\n",
    "                j+=1\n",
    "\n",
    "            k+=1\n",
    "        \n",
    "        while(i<len[list1]):\n",
    "            list3[k]=list1[i]\n",
    "            i+=1\n",
    "            k+=1\n",
    "        while(j<=len[list2]):\n",
    "            list3[k]=list2[j]\n",
    "            j+=1\n",
    "            k+=1\n",
    "\n",
    "\n",
    "        return list3\n",
    "\n",
    "\n",
    "list1=[1,2,3,4,5,6,7,8,9]\n",
    "list2=[10,11,12,13,14,15]\n",
    "solve=Solve\n",
    "x=solve.margeSort(list1,list2)\n",
    "\n",
    "print(x)"
   ]
  }
 ],
 "metadata": {
  "kernelspec": {
   "display_name": "base",
   "language": "python",
   "name": "python3"
  },
  "language_info": {
   "codemirror_mode": {
    "name": "ipython",
    "version": 3
   },
   "file_extension": ".py",
   "mimetype": "text/x-python",
   "name": "python",
   "nbconvert_exporter": "python",
   "pygments_lexer": "ipython3",
   "version": "3.12.2"
  }
 },
 "nbformat": 4,
 "nbformat_minor": 2
}
