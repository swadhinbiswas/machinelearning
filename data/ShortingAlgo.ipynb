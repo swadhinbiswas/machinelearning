{
 "cells": [
  {
   "cell_type": "markdown",
   "metadata": {},
   "source": [
    "# heap\n",
    "### Bainary tree\n",
    "```pyhton3 \n",
    "def clear():\n",
    "pass\n",
    "```\n"
   ]
  },
  {
   "cell_type": "markdown",
   "metadata": {},
   "source": [
    "MAX HEAP"
   ]
  },
  {
   "cell_type": "code",
   "execution_count": 1,
   "metadata": {
    "metadata": {}
   },
   "outputs": [
    {
     "name": "stdout",
     "output_type": "stream",
     "text": [
      "[1, 5, 7, 12, 9, 9, 10]\n"
     ]
    }
   ],
   "source": [
    "def heapify(arr,n,i):\n",
    "  largest =i\n",
    "  left,right=2*i+1,2*i+2\n",
    "\n",
    "  if left<n and arr[i]<arr[left]:\n",
    "    largest =left\n",
    "  if right<n and arr[i]<arr[right]:\n",
    "    largest =right\n",
    "  if largest!=i :\n",
    "    arr[i],arr[largest] = arr[largest],arr[i]\n",
    "    heapify(arr,n,largest)\n",
    "\n",
    "\n",
    "def heapshort(arr):\n",
    "  n=len(arr)\n",
    "  for i in range(n//2,-1,-1):\n",
    "    heapify(arr,n,i)\n",
    "  \n",
    "  for i in range(n-1,0,-1):\n",
    "    arr[i],arr[0]=arr[0],arr[i]\n",
    "    heapify(arr,i,0)\n",
    "\n",
    "  return arr\n",
    "  \n",
    "  \n",
    "  "
   ]
  },
  {
   "cell_type": "markdown",
   "metadata": {},
   "source": [
    "Marge short = function()"
   ]
  },
  {
   "cell_type": "code",
   "execution_count": 10,
   "metadata": {
    "metadata": {}
   },
   "outputs": [
    {
     "name": "stdout",
     "output_type": "stream",
     "text": [
      "Sorted array is: \n",
      "1 5 6 9 10 12 \n"
     ]
    }
   ],
   "source": [
    "# MergeSort in Python\n",
    "\n",
    "\n",
    "def mergeSort(array):\n",
    "    if len(array) > 1:\n",
    "\n",
    "        #  r is the point where the array is divided into two subarrays\n",
    "        r = len(array)//2\n",
    "        L = array[:r]\n",
    "        M = array[r:]\n",
    "\n",
    "        # Sort the two halves\n",
    "        mergeSort(L)\n",
    "        mergeSort(M)\n",
    "\n",
    "        i = j = k = 0\n",
    "\n",
    "        # Until we reach either end of either L or M, pick larger among\n",
    "        # elements L and M and place them in the correct position at A[p..r]\n",
    "        while i < len(L) and j < len(M):\n",
    "            if L[i] < M[j]:\n",
    "                array[k] = L[i]\n",
    "                i += 1\n",
    "            else:\n",
    "                array[k] = M[j]\n",
    "                j += 1\n",
    "            k += 1\n",
    "\n",
    "        # When we run out of elements in either L or M,\n",
    "        # pick up the remaining elements and put in A[p..r]\n",
    "        while i < len(L):\n",
    "            array[k] = L[i]\n",
    "            i += 1\n",
    "            k += 1\n",
    "\n",
    "        while j < len(M):\n",
    "            array[k] = M[j]\n",
    "            j += 1\n",
    "            k += 1\n",
    "\n",
    "\n",
    "# Print the array\n",
    "def printList(array):\n",
    "    for i in range(len(array)):\n",
    "        print(array[i], end=\" \")\n",
    "    print()\n",
    "\n",
    "\n",
    "# Driver program\n",
    "if __name__ == '__main__':\n",
    "    array = [6, 5, 12, 10, 9, 1]\n",
    "\n",
    "    mergeSort(array)\n",
    "\n",
    "    print(\"Sorted array is: \")\n",
    "    printList(array)"
   ]
  },
  {
   "cell_type": "markdown",
   "metadata": {},
   "source": [
    "#Shorted 2 marge list"
   ]
  },
  {
   "cell_type": "code",
   "execution_count": 20,
   "metadata": {
    "metadata": {}
   },
   "outputs": [
    {
     "ename": "IndentationError",
     "evalue": "unindent does not match any outer indentation level (<tokenize>, line 10)",
     "output_type": "error",
     "traceback": [
      "\u001b[0;36m  File \u001b[0;32m<tokenize>:10\u001b[0;36m\u001b[0m\n\u001b[0;31m    i+=1\u001b[0m\n\u001b[0m    ^\u001b[0m\n\u001b[0;31mIndentationError\u001b[0m\u001b[0;31m:\u001b[0m unindent does not match any outer indentation level\n"
     ]
    }
   ],
   "source": [
    "class Solve:\n",
    "    def margeSort(list1,list2):\n",
    "        list3=[]\n",
    "        i=j=k=0\n",
    "        x=len(list1)\n",
    "        y=len(list2)\n",
    "        while i<x and j<y:\n",
    "            if list1[i]<list2[j]:\n",
    "                list3[k]=list1[i]\n",
    "                i+=1\n",
    "\n",
    "            else:\n",
    "                list3[k]=list2[j]\n",
    "             j+=1\n",
    "\n",
    "            k+=1\n",
    "        \n",
    "        while(i<len[list1]):\n",
    "            list3[k]=list1[i]\n",
    "            i+=1\n",
    "            k+=1\n",
    "        while(j<=len[list2]):\n",
    "            list3[k]=list2[j]\n",
    "            j+=1\n",
    "            k+=1\n",
    "\n",
    "\n",
    "        return list3\n",
    "\n",
    "\n",
    "list1=[1,2,3,4,5,6,7,8,9]\n",
    "list2=[10,11,12,13,14,15]\n",
    "solve=Solve\n",
    "x=solve.margeSort(list1,list2)\n",
    "\n",
    "print(x)"
   ]
  }
 ],
 "metadata": {
  "kernelspec": {
   "display_name": "base",
   "language": "python",
   "name": "python3"
  },
  "language_info": {
   "codemirror_mode": {
    "name": "ipython",
    "version": 3
   },
   "file_extension": ".py",
   "mimetype": "text/x-python",
   "name": "python",
   "nbconvert_exporter": "python",
   "pygments_lexer": "ipython3",
   "version": "3.11.8"
  }
 },
 "nbformat": 4,
 "nbformat_minor": 2
}
