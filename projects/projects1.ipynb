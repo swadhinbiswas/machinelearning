{
 "cells": [
  {
   "cell_type": "code",
   "execution_count": null,
   "metadata": {},
   "outputs": [],
   "source": [
    "#hello Bangladesh \n",
    "try:\n",
    "    import os\n",
    "    import sys\n",
    "    import time\n",
    "    import requests\n",
    "    import subprocess\n",
    "    from colorama import Fore\n",
    "    \n",
    "except ImportError:\n",
    "  \n",
    "    os.system(\"pip install requests\")\n",
    "    os.system(\"pip install colorama\")\n",
    "    os.system(\"pip install subprocess\")\n",
    "    os.system(\"pip install time\")\n",
    "    os.system(\"pip install sys\")\n",
    "    os.system(\"pip install os\")\n",
    "    os.system(\"clear\")\n",
    "    print(Fore.RED + \"Please run this script again\")\n",
    "    sys.exit()\n",
    "    \n",
    "    \n",
    "    \n",
    "    \n",
    "    # Author : Swadhin Biswas\n",
    "    \n",
    "    # Github :swadhinbiswas\n",
    "    # Facebook : Swadhin Biswas\n",
    "    # Instagram : Swadhin Biswas\n",
    "    # Website : https://swadhinbiswas.com\n",
    "    # Youtube : Swadhin Biswas\n",
    "    # Linkedin : Swadhin Biswas\n",
    "    # Twitter : Swadhin Biswas\n",
    "    # Pinterest : Swadhin Biswas\n",
    "    # Flickr : Swadhin Biswas\n",
    "    \n",
    "    \n",
    "    # This tool is only for educational purpose. If you use this tool for other purposes except education we will not be responsible in such cases.\n",
    "    \n",
    "    # This tool is created by Swadhin Biswas\n",
    "    # Github : swadhinbiswas\n",
    "    # Facebook : Swadhin Biswas\n",
    "    # Instagram : Swadhin Biswas\n",
    "    \n",
    "    # Website : https://swadhinbiswas.com"
   ]
  }
 ],
 "metadata": {
  "kernelspec": {
   "display_name": "base",
   "language": "python",
   "name": "python3"
  },
  "language_info": {
   "codemirror_mode": {
    "name": "ipython",
    "version": 3
   },
   "file_extension": ".py",
   "mimetype": "text/x-python",
   "name": "python",
   "nbconvert_exporter": "python",
   "pygments_lexer": "ipython3",
   "version": "3.12.2"
  }
 },
 "nbformat": 4,
 "nbformat_minor": 2
}
