{
 "cells": [
  {
   "cell_type": "code",
   "execution_count": 1,
   "metadata": {},
   "outputs": [],
   "source": [
    "from pandas import DataFrame as df\n",
    "from pandas import read_csv\n",
    "TrainDataset = read_csv('./train.csv')\n",
    "TrainDataset= df(TrainDataset)\n",
    "TrainDataset=TrainDataset.dropna()\n",
    "\n",
    "TrainDataset=TrainDataset.drop(['Name','Ticket','Cabin'],axis=1)\n",
    "TrainDataset[\"FamilySize\"] = TrainDataset[\"SibSp\"] + TrainDataset[\"Parch\"] + 1\n",
    "\n",
    "\n"
   ]
  },
  {
   "cell_type": "code",
   "execution_count": 6,
   "metadata": {},
   "outputs": [
    {
     "name": "stdout",
     "output_type": "stream",
     "text": [
      "Stacking accuracy: 1.00\n"
     ]
    }
   ],
   "source": [
    "from sklearn.compose import ColumnTransformer\n",
    "from sklearn.pipeline import Pipeline\n",
    "from sklearn.preprocessing import OneHotEncoder, StandardScaler\n",
    "from sklearn.ensemble import RandomForestClassifier, GradientBoostingClassifier, StackingClassifier\n",
    "from sklearn.linear_model import LogisticRegression\n",
    "from sklearn.metrics import accuracy_score\n",
    "import pandas as pd\n",
    "\n",
    "preprocessor = ColumnTransformer(\n",
    "    transformers=[\n",
    "        ('num', StandardScaler(), ['Age', 'Fare', 'FamilySize']),\n",
    "        ('cat', OneHotEncoder(handle_unknown='ignore'), ['Pclass', 'Sex', 'Embarked'])\n",
    "    ])\n",
    "\n",
    "\n",
    "base_models_pipeline = [\n",
    "  ('random_forest', Pipeline([\n",
    "    ('preprocessor', preprocessor),\n",
    "    ('classifier', RandomForestClassifier(random_state=42, n_estimators=1000))\n",
    "  ])),\n",
    "  ('gradient_boosting', Pipeline([\n",
    "    ('preprocessor', preprocessor),\n",
    "    ('classifier', GradientBoostingClassifier(random_state=42, n_estimators=1000))\n",
    "  ]))\n",
    "]\n",
    "\n",
    "stacking_pipeline = StackingClassifier(\n",
    "  estimators=base_models_pipeline,\n",
    "  final_estimator=LogisticRegression(),\n",
    "  cv=5\n",
    ")\n",
    "\n",
    "\n",
    "X = TrainDataset.drop(columns=['Survived', 'PassengerId'])\n",
    "y = TrainDataset['Survived']\n",
    "\n",
    "stacking_pipeline.fit(X, y)\n",
    "y_pred_stacking = stacking_pipeline.predict(X)\n",
    "\n",
    "\n",
    "stacking_accuracy = accuracy_score(y, y_pred_stacking)\n",
    "\n",
    "print(f'Stacking accuracy: {stacking_accuracy:.2f}')\n",
    "\n",
    "submission=pd.DataFrame({'PassengerId':TrainDataset['PassengerId'],'Survived':y_pred_stacking})\n",
    "submission.to_csv('Try3.csv',index=False,header=True)\n",
    "\n",
    "\n",
    "\n",
    "\n"
   ]
  }
 ],
 "metadata": {
  "kernelspec": {
   "display_name": "Python 3",
   "language": "python",
   "name": "python3"
  },
  "language_info": {
   "codemirror_mode": {
    "name": "ipython",
    "version": 3
   },
   "file_extension": ".py",
   "mimetype": "text/x-python",
   "name": "python",
   "nbconvert_exporter": "python",
   "pygments_lexer": "ipython3",
   "version": "3.11.8"
  }
 },
 "nbformat": 4,
 "nbformat_minor": 2
}
